{
 "cells": [
  {
   "cell_type": "code",
   "execution_count": 95,
   "id": "a5281de0",
   "metadata": {},
   "outputs": [],
   "source": [
    "from langgraph.graph import StateGraph, START, END\n",
    "from langchain_google_genai import ChatGoogleGenerativeAI\n",
    "from typing import TypedDict, Literal\n",
    "import sqlite3\n",
    "import json\n",
    "import os\n",
    "import re\n",
    "from dotenv import load_dotenv"
   ]
  },
  {
   "cell_type": "code",
   "execution_count": 96,
   "id": "56f2f42d",
   "metadata": {},
   "outputs": [
    {
     "data": {
      "text/plain": [
       "True"
      ]
     },
     "execution_count": 96,
     "metadata": {},
     "output_type": "execute_result"
    }
   ],
   "source": [
    "load_dotenv()"
   ]
  },
  {
   "cell_type": "code",
   "execution_count": 97,
   "id": "75c6dff1",
   "metadata": {},
   "outputs": [],
   "source": [
    "model = ChatGoogleGenerativeAI(\n",
    "    model = 'gemini-2.5-flash',\n",
    "    google_api_key = os.getenv('GEMINI_API_KEY')\n",
    ")"
   ]
  },
  {
   "cell_type": "code",
   "execution_count": 98,
   "id": "2a068158",
   "metadata": {},
   "outputs": [],
   "source": [
    "class AgentState(TypedDict):\n",
    "    user_query: str\n",
    "    sql_query: str\n",
    "    # validation_passed: bool\n",
    "    validation_passed: Literal[\"passed\", \"failed\"]\n",
    "    feedback: str\n",
    "    result: str\n",
    "    iteration_count: int \n"
   ]
  },
  {
   "cell_type": "code",
   "execution_count": null,
   "id": "a4e14ecd",
   "metadata": {},
   "outputs": [],
   "source": [
    "def get_user_query(_: AgentState) -> AgentState:\n",
    "    \"\"\"Node to capture the user query (for clarity in the graph).\"\"\"\n",
    "    user_query = input(\"Enter your question: \")\n",
    "    return {\n",
    "        \"user_query\": user_query,\n",
    "        \"sql_query\": \"\",\n",
    "        \"validation_passed\": \"failed\",\n",
    "        \"feedback\": \"\",\n",
    "        \"result\": \"\",\n",
    "        \"iteration_count\": 0,\n",
    "    }"
   ]
  },
  {
   "cell_type": "code",
   "execution_count": 99,
   "id": "971861e8",
   "metadata": {},
   "outputs": [],
   "source": [
    "def generate_sql(state: AgentState):\n",
    "    with open(\"indian_deserts.json\") as f:\n",
    "        metadata = json.load(f)\n",
    "\n",
    "    table = \"indian_desserts\"\n",
    "    schema_info = metadata[table]\n",
    "    \n",
    "    schema_desc = []\n",
    "    for col_name, col_info in schema_info[\"columns\"].items():\n",
    "        schema_desc.append(\n",
    "            f\"- {col_name} ({col_info['type']}): {col_info['description']}\"\n",
    "        )\n",
    "    schema_text = \"\\n\".join(schema_desc)\n",
    "\n",
    "    prompt = f\"\"\"\n",
    "    You are a SQL expert. Generate a valid SQLite query for the user's request.\n",
    "\n",
    "    **Table:** {table}\n",
    "    **Schema:**\n",
    "    {schema_text}\n",
    "\n",
    "    **User Query:** {state['user_query']}\n",
    "    **Validator Feedback:** {state.get('feedback', 'None')}\n",
    "\n",
    "    **CRITICAL INSTRUCTIONS:**\n",
    "    - Return ONLY the raw SQL query with NO extra text, explanations, or prefixes\n",
    "    - Do NOT include markdown code blocks, backticks, or the word \"sql\"\n",
    "    - Do NOT end the query with a semicolon\n",
    "    - Use proper SQLite syntax\n",
    "    - **When asked about desserts, ALWAYS add: WHERE course = 'dessert'**\n",
    "    - If feedback is provided, fix the issues mentioned\n",
    "\n",
    "    Example: SELECT name, state FROM indian_desserts WHERE course = 'dessert' AND state = 'West Bengal'\n",
    "    \"\"\"\n",
    "\n",
    "    response = model.invoke(prompt)\n",
    "    \n",
    "    # ROBUST CLEANING\n",
    "    sql_query = response.content.strip() #Here I am removing the trailing and beginning white spaces using the .strip() method\n",
    "    \n",
    "    # Remove markdown code blocks which comes with gpts ``` ``` so that we are left with the main SQL code only\n",
    "    sql_query = re.sub(r'^```sql\\s*', '', sql_query, flags=re.IGNORECASE)\n",
    "    sql_query = re.sub(r'^```\\s*', '', sql_query)\n",
    "    sql_query = re.sub(r'```$', '', sql_query)\n",
    "    \n",
    "    # Remove common prefixes\n",
    "    # Sometimes the gpts prepend things like SQL or SQLite to the query. This is to remove that\n",
    "    sql_query = re.sub(r'^\\s*sql\\s*', '', sql_query, flags=re.IGNORECASE)\n",
    "    sql_query = re.sub(r'^\\s*sqlite\\s*', '', sql_query, flags=re.IGNORECASE)\n",
    "    \n",
    "    # Remove trailing semicolon\n",
    "    sql_query = sql_query.rstrip('; \\n\\t')\n",
    "\n",
    "    print(f\"\\n🧠 Generated SQL (Iteration {state['iteration_count']}): {sql_query}\")\n",
    "    \n",
    "    return {\n",
    "        **state, \n",
    "        \"sql_query\": sql_query,\n",
    "        \"iteration_count\": state[\"iteration_count\"] + 1\n",
    "    }\n"
   ]
  },
  {
   "cell_type": "code",
   "execution_count": 100,
   "id": "55e349e6",
   "metadata": {},
   "outputs": [],
   "source": [
    "def validate_sql(state: AgentState) -> AgentState:\n",
    "    \"\"\"\n",
    "    Validate the SQL query by checking extracted column names against the schema.\n",
    "    Provides concise feedback for the next iteration.\n",
    "    \"\"\"\n",
    "    sql_query = state[\"sql_query\"]\n",
    "    validation_passed = True\n",
    "    feedback = \"\"\n",
    "\n",
    "    # Load valid column names from schema\n",
    "    with open(\"indian_deserts.json\") as f:\n",
    "        metadata = json.load(f)\n",
    "    valid_columns = set(metadata[\"indian_desserts\"][\"columns\"].keys())\n",
    "\n",
    "    # Ask model to extract column names\n",
    "    prompt = f\"\"\"\n",
    "    Extract ONLY the column names from this SQL query:\n",
    "    ---\n",
    "    {sql_query}\n",
    "    ---\n",
    "    Rules:\n",
    "    - Include columns from SELECT and WHERE clauses.\n",
    "    - Ignore SQL keywords, table names, and string literals (like 'West Bengal').\n",
    "    - For SELECT *, return *.\n",
    "    - Output comma-separated column names only.\n",
    "    \"\"\"\n",
    "\n",
    "    try:\n",
    "        response = model.invoke(prompt)\n",
    "        extracted_cols_list = [\n",
    "            c.strip().lower() for c in response.content.split(\",\") if c.strip()\n",
    "        ]\n",
    "        extracted_columns = set(extracted_cols_list)\n",
    "\n",
    "        invalid_columns = extracted_columns - valid_columns\n",
    "\n",
    "        if \"*\" in extracted_columns:\n",
    "            feedback = \"Query uses SELECT *, which is acceptable.\"\n",
    "        elif invalid_columns:\n",
    "            validation_passed = False\n",
    "            feedback = (\n",
    "                f\"Invalid columns found: {', '.join(invalid_columns)}. \"\n",
    "                f\"Valid columns are: {', '.join(valid_columns)}.\"\n",
    "            )\n",
    "        else:\n",
    "            feedback = \"All columns are valid.\"\n",
    "\n",
    "    except Exception as e:\n",
    "        validation_passed = False\n",
    "        feedback = f\"Validation error: {str(e)}\"\n",
    "\n",
    "    print(f\"\\n🧾 Validation Feedback: {feedback}\")\n",
    "\n",
    "    return {\n",
    "        **state,\n",
    "        \"validation_passed\": validation_passed,\n",
    "        \"feedback\": feedback,\n",
    "    }\n"
   ]
  },
  {
   "cell_type": "code",
   "execution_count": 101,
   "id": "1f81dd29",
   "metadata": {},
   "outputs": [],
   "source": [
    "# -----------------------------\n",
    "# 4️⃣ Node 3 - Execute SQL\n",
    "# -----------------------------\n",
    "def execute_sql(state: AgentState):\n",
    "    with open(\"indian_deserts.json\") as f:\n",
    "        metadata = json.load(f)\n",
    "\n",
    "    db_path = \"desserts.db\"\n",
    "\n",
    "    conn = sqlite3.connect(db_path)\n",
    "    cursor = conn.cursor()\n",
    "    try:\n",
    "        cursor.execute(state[\"sql_query\"])\n",
    "        rows = cursor.fetchall()\n",
    "        result = rows if rows else \"No results found.\"\n",
    "        print(\"📊 Query Result:\", result)\n",
    "    except Exception as e:\n",
    "        result = f\"Execution Error: {e}\"\n",
    "        print(result)\n",
    "    finally:\n",
    "        conn.close()\n",
    "\n",
    "    return {**state, \"result\": str(result)}\n"
   ]
  },
  {
   "cell_type": "code",
   "execution_count": 102,
   "id": "a22dc196",
   "metadata": {},
   "outputs": [],
   "source": [
    "# Conditional edge for looping logic\n",
    "def validation_check(state: AgentState):\n",
    "    return \"execute_sql\" if state[\"validation_passed\"] else \"generate_sql\""
   ]
  },
  {
   "cell_type": "code",
   "execution_count": 103,
   "id": "e5374f1a",
   "metadata": {},
   "outputs": [],
   "source": [
    "# -----------------------------\n",
    "# 5️⃣ Define Graph Structure (FIXED)\n",
    "# -----------------------------\n",
    "graph = StateGraph(AgentState)\n",
    "\n",
    "# Add nodes\n",
    "graph.add_node(\"generate_sql\", generate_sql)\n",
    "graph.add_node(\"validate_sql\", validate_sql)\n",
    "graph.add_node(\"execute_sql\", execute_sql)\n",
    "\n",
    "# Add edges\n",
    "graph.add_edge(START, \"generate_sql\")\n",
    "graph.add_edge(\"generate_sql\", \"validate_sql\")\n",
    "\n",
    "# FIXED: Add the path mapping dictionary\n",
    "graph.add_conditional_edges(\n",
    "    \"validate_sql\", \n",
    "    validation_check,\n",
    "    {\n",
    "        \"execute_sql\": \"execute_sql\",    # If validation passes\n",
    "        \"generate_sql\": \"generate_sql\"   # If validation fails (loop back)\n",
    "    }\n",
    ")\n",
    "\n",
    "graph.add_edge(\"execute_sql\", END)\n",
    "\n",
    "# Compile the graph\n",
    "workflow = graph.compile()"
   ]
  },
  {
   "cell_type": "code",
   "execution_count": 104,
   "id": "e32bd500",
   "metadata": {},
   "outputs": [
    {
     "data": {
      "image/png": "[encoded data removed]",
      "text/plain": [
       "<langgraph.graph.state.CompiledStateGraph object at 0x0000024C657718C0>"
      ]
     },
     "execution_count": 104,
     "metadata": {},
     "output_type": "execute_result"
    }
   ],
   "source": [
    "workflow"
   ]
  },
  {
   "cell_type": "code",
   "execution_count": 105,
   "id": "7fa57c15",
   "metadata": {},
   "outputs": [
    {
     "name": "stdout",
     "output_type": "stream",
     "text": [
      "🍰 Welcome to the Indian Desserts SQL Agent!\n",
      "\n",
      "🧠 Generated SQL (Iteration 0): SELECT name FROM indian_desserts WHERE course = 'dessert' AND state = 'West Bengal'\n",
      "\n",
      "🧾 Validation Feedback: All columns are valid.\n",
      "📊 Query Result: [('Balu shahi',), ('Gulab jamun',), ('Imarti',), ('Kalakand',), ('Cham cham',), ('Ledikeni',), ('Mihidana',), ('Misti doi',), ('Pantua',), ('Ras malai',), ('Rasgulla',), ('Sandesh',), ('Adhirasam',), ('Cheera Doi',), ('Goja',)]\n",
      "\n",
      " 👤 User Query:  show all the dessert names of West bengal\n",
      "\n",
      " 🎯 Final Query: SELECT name FROM indian_desserts WHERE course = 'dessert' AND state = 'West Bengal'\n",
      "\n",
      " 📈 Final Result: [('Balu shahi',), ('Gulab jamun',), ('Imarti',), ('Kalakand',), ('Cham cham',), ('Ledikeni',), ('Mihidana',), ('Misti doi',), ('Pantua',), ('Ras malai',), ('Rasgulla',), ('Sandesh',), ('Adhirasam',), ('Cheera Doi',), ('Goja',)]\n"
     ]
    }
   ],
   "source": [
    "if __name__ == \"__main__\":\n",
    "    print(\"🍰 Welcome to the Indian Desserts SQL Agent!\")\n",
    "    user_query = input(\"Enter your question: \")\n",
    "\n",
    "    initial_state = {\n",
    "        \"user_query\": user_query,\n",
    "        \"sql_query\": \"\",\n",
    "        \"validation_passed\": False,\n",
    "        \"feedback\": \"\",\n",
    "        \"result\": \"\",\n",
    "        \"iteration_count\": 0 \n",
    "    }\n",
    "\n",
    "    result = workflow.invoke(initial_state)\n",
    "\n",
    "    print(\"\\n 👤 User Query: \", result[\"user_query\"])\n",
    "    print(\"\\n 🎯 Final Query:\", result[\"sql_query\"])\n",
    "    print(\"\\n 📈 Final Result:\", result[\"result\"])"
   ]
  }
 ],
 "metadata": {
  "kernelspec": {
   "display_name": "venv",
   "language": "python",
   "name": "python3"
  },
  "language_info": {
   "codemirror_mode": {
    "name": "ipython",
    "version": 3
   },
   "file_extension": ".py",
   "mimetype": "text/x-python",
   "name": "python",
   "nbconvert_exporter": "python",
   "pygments_lexer": "ipython3",
   "version": "3.13.0"
  }
 },
 "nbformat": 4,
 "nbformat_minor": 5
}
